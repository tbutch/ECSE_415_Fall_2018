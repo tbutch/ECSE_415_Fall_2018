{
 "cells": [
  {
   "cell_type": "markdown",
   "metadata": {},
   "source": [
    "# Template Matching\n",
    "Questions 3.1 - 3.2"
   ]
  },
  {
   "cell_type": "code",
   "execution_count": 4,
   "metadata": {},
   "outputs": [
    {
     "ename": "error",
     "evalue": "OpenCV(3.4.1) C:\\Miniconda3\\conda-bld\\opencv-suite_1533128839831\\work\\modules\\imgproc\\src\\color.cpp:11115: error: (-215) scn == 3 || scn == 4 in function cv::cvtColor\n",
     "output_type": "error",
     "traceback": [
      "\u001b[1;31m---------------------------------------------------------------------------\u001b[0m",
      "\u001b[1;31merror\u001b[0m                                     Traceback (most recent call last)",
      "\u001b[1;32m<ipython-input-4-8d51e53da712>\u001b[0m in \u001b[0;36m<module>\u001b[1;34m()\u001b[0m\n\u001b[0;32m      6\u001b[0m \u001b[1;31m# Load image\u001b[0m\u001b[1;33m\u001b[0m\u001b[1;33m\u001b[0m\u001b[0m\n\u001b[0;32m      7\u001b[0m \u001b[0mimgBackground\u001b[0m \u001b[1;33m=\u001b[0m \u001b[0mcv2\u001b[0m\u001b[1;33m.\u001b[0m\u001b[0mimread\u001b[0m\u001b[1;33m(\u001b[0m\u001b[1;34m\"where_is_waldo.jpg\"\u001b[0m\u001b[1;33m)\u001b[0m\u001b[1;33m\u001b[0m\u001b[0m\n\u001b[1;32m----> 8\u001b[1;33m \u001b[0mimgBackground\u001b[0m \u001b[1;33m=\u001b[0m \u001b[0mcv2\u001b[0m\u001b[1;33m.\u001b[0m\u001b[0mcvtColor\u001b[0m\u001b[1;33m(\u001b[0m\u001b[0mimgBackground\u001b[0m\u001b[1;33m,\u001b[0m \u001b[0mcv2\u001b[0m\u001b[1;33m.\u001b[0m\u001b[0mCOLOR_BGR2RGB\u001b[0m\u001b[1;33m)\u001b[0m\u001b[1;33m\u001b[0m\u001b[0m\n\u001b[0m\u001b[0;32m      9\u001b[0m \u001b[0mimg_draw\u001b[0m \u001b[1;33m=\u001b[0m \u001b[0mimgBackground\u001b[0m\u001b[1;33m\u001b[0m\u001b[0m\n\u001b[0;32m     10\u001b[0m \u001b[0mimg_draw2\u001b[0m \u001b[1;33m=\u001b[0m \u001b[0mimgBackground\u001b[0m\u001b[1;33m\u001b[0m\u001b[0m\n",
      "\u001b[1;31merror\u001b[0m: OpenCV(3.4.1) C:\\Miniconda3\\conda-bld\\opencv-suite_1533128839831\\work\\modules\\imgproc\\src\\color.cpp:11115: error: (-215) scn == 3 || scn == 4 in function cv::cvtColor\n"
     ]
    }
   ],
   "source": [
    "import cv2\n",
    "import numpy as np\n",
    "import matplotlib.pyplot as plt\n",
    "import skimage.measure\n",
    "\n",
    "# Load image\n",
    "imgBackground = cv2.imread(\"where_is_waldo.jpg\")\n",
    "imgBackground = cv2.cvtColor(imgBackground, cv2.COLOR_BGR2RGB)\n",
    "img_draw = imgBackground\n",
    "img_draw2 = imgBackground\n",
    "imgTemplate = cv2.imread(\"template1.png\")\n",
    "imgTemplate = cv2.cvtColor(imgTemplate, cv2.COLOR_BGR2RGB)\n",
    "imgTemplateNoisy = cv2.imread(\"template2.png\")\n",
    "imgTemplateNoisy = cv2.cvtColor(imgTemplateNoisy, cv2.COLOR_BGR2RGB)\n",
    "\n",
    "# iterate over the background image using the template\n",
    "height, width = imgTemplate.shape[0:2]\n",
    "\n",
    "\n",
    "# compute SSD matrix\n",
    "SSD = cv2.matchTemplate(imgBackground, imgTemplate, cv2.TM_SQDIFF)\n",
    "\n",
    "threshold = 0.8\n",
    "\n",
    "min_val, max_val, min_loc, max_loc = cv2.minMaxLoc(SSD)\n",
    "\n",
    "top_left = min_loc\n",
    "bottom_right = (top_left[0] + width, top_left[1] + height)\n",
    "print(top_left, bottom_right)\n",
    "cv2.rectangle(img_draw,top_left, bottom_right, (255,255,0), 5)\n",
    "\n",
    "#loc = np.where(SSD >= threshold)\n",
    "#for pt in zip(*loc[::-1]):\n",
    "    # cv2.rectangle(img, pt1, pt2, color[, thickness[, lineType[, shift]]]) → None\n",
    "    # This function will re-write the pixels around the found points\n",
    "#    cv2.rectangle(img_draw, pt, (pt[0]+width, pt[1]+height), (255,255,0), 5)\n",
    "\n",
    "# Repeat for noisy template\n",
    "SSDNoise = cv2.matchTemplate(imgBackground, imgTemplate, cv2.TM_SQDIFF)\n",
    "\n",
    "# locNoise = np.where(SSDNoise >= threshold)\n",
    "\n",
    "\n",
    "min_val, max_val, min_loc, max_loc = cv2.minMaxLoc(SSDNoise)\n",
    "\n",
    "top_left = min_loc\n",
    "bottom_right = (top_left[0] + width, top_left[1] + height)\n",
    "cv2.rectangle(img_draw2,top_left, bottom_right, (255,255,0), 5)\n",
    "#for pt in zip(*locNoise[::-1]):\n",
    "    # cv2.rectangle(img, pt1, pt2, color[, thickness[, lineType[, shift]]]) → None\n",
    "    # This function will re-write the pixels around the found points\n",
    "#    cv2.rectangle(img_draw2, pt, (pt[0]+width, pt[1]+height), (255,255,0), 5)\n",
    "    \n",
    "# Display images\n",
    "\n",
    "images = [imgTemplate, SSD, img_draw, imgTemplateNoisy, SSDNoise, img_draw2]\n",
    "titles = [\"Template\",\"SSD No noise\",\"Template with no noise\",\"Noisy Template\",\"SSD With noise\",\"Template with noise\"]\n",
    "\n",
    "plt.figure(figsize=(50,50))\n",
    "for i in range(6):\n",
    "    plt.subplot(6,1,i+1),plt.imshow(images[i])\n",
    "    plt.title(titles[i])\n",
    "    plt.xticks([]),plt.yticks([])\n",
    "plt.show()\n",
    "\n"
   ]
  },
  {
   "cell_type": "code",
   "execution_count": null,
   "metadata": {},
   "outputs": [],
   "source": []
  }
 ],
 "metadata": {
  "kernelspec": {
   "display_name": "Python 3",
   "language": "python",
   "name": "python3"
  },
  "language_info": {
   "codemirror_mode": {
    "name": "ipython",
    "version": 3
   },
   "file_extension": ".py",
   "mimetype": "text/x-python",
   "name": "python",
   "nbconvert_exporter": "python",
   "pygments_lexer": "ipython3",
   "version": "3.6.5"
  }
 },
 "nbformat": 4,
 "nbformat_minor": 2
}
